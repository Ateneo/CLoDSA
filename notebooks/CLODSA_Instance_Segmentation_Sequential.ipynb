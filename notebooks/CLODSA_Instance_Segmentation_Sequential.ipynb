{
  "nbformat": 4,
  "nbformat_minor": 0,
  "metadata": {
    "colab": {
      "name": "CLODSA_Nuclei.ipynb",
      "provenance": [],
      "include_colab_link": true
    },
    "kernelspec": {
      "display_name": "Python 3",
      "language": "python",
      "name": "python3"
    },
    "language_info": {
      "codemirror_mode": {
        "name": "ipython",
        "version": 3
      },
      "file_extension": ".py",
      "mimetype": "text/x-python",
      "name": "python",
      "nbconvert_exporter": "python",
      "pygments_lexer": "ipython3",
      "version": "3.6.7"
    }
  },
  "cells": [
    {
      "cell_type": "markdown",
      "metadata": {
        "id": "view-in-github",
        "colab_type": "text"
      },
      "source": [
        "<a href=\"https://colab.research.google.com/github/joheras/CLoDSA/blob/master/notebooks/CLODSA_Instance_Segmentation.ipynb\" target=\"_parent\"><img src=\"https://colab.research.google.com/assets/colab-badge.svg\" alt=\"Open In Colab\"/></a>"
      ]
    },
    {
      "cell_type": "markdown",
      "metadata": {
        "colab_type": "text",
        "id": "GxQekSqTht6I"
      },
      "source": [
        "# Augmenting a dataset for instance segmentation\n",
        "\n",
        "In this notebook, we illustrate how CLODSA can be employed to augment a dataset of images devoted to instance segmentation that was annotated using the [COCO format](http://cocodataset.org/#home). "
      ]
    },
    {
      "cell_type": "markdown",
      "metadata": {
        "colab_type": "text",
        "id": "YC_9o6-Jht6M"
      },
      "source": [
        "We will use a small dataset of shapes. "
      ]
    },
    {
      "cell_type": "code",
      "metadata": {
        "colab_type": "code",
        "id": "QNhd1Ttiht6Q",
        "colab": {}
      },
      "source": [
        "!wget https://www.dropbox.com/s/eus5u6ug1s7ftzc/shapes.zip?dl=0 -O shapes.zip\n",
        "!unzip shapes.zip"
      ],
      "execution_count": 0,
      "outputs": []
    },
    {
      "cell_type": "markdown",
      "metadata": {
        "colab_type": "text",
        "id": "kAy0Hvnbht6i"
      },
      "source": [
        "We can check the elements of the shapes folder that are a json file with the coco annotation and two images."
      ]
    },
    {
      "cell_type": "code",
      "metadata": {
        "colab_type": "code",
        "id": "XEJ0pRfRht6k",
        "colab": {}
      },
      "source": [
        "!ls shapes/"
      ],
      "execution_count": 0,
      "outputs": []
    },
    {
      "cell_type": "markdown",
      "metadata": {
        "id": "Bu3B12UeBhz7",
        "colab_type": "text"
      },
      "source": [
        "We create the output folder."
      ]
    },
    {
      "cell_type": "code",
      "metadata": {
        "id": "qGMfgPAtBhz-",
        "colab_type": "code",
        "colab": {}
      },
      "source": [
        "!mkdir output"
      ],
      "execution_count": 0,
      "outputs": []
    },
    {
      "cell_type": "markdown",
      "metadata": {
        "colab_type": "text",
        "id": "LaBilQHUht6u"
      },
      "source": [
        "## Augmentation techniques\n",
        "\n",
        "For this example, we consider three augmentation techniques. \n",
        "\n",
        "The augmentation techniques applied in this example are:\n",
        "- Rotation.\n",
        "- Flip."
      ]
    },
    {
      "cell_type": "markdown",
      "metadata": {
        "colab_type": "text",
        "id": "wCILufF2ht6y"
      },
      "source": [
        "## Installing the necessary libraries\n",
        "\n",
        "In case that CLODSA is not installed in your system, the first task consists in installing it using ``pip``."
      ]
    },
    {
      "cell_type": "code",
      "metadata": {
        "colab_type": "code",
        "id": "FWTm8dG3ht6y",
        "colab": {}
      },
      "source": [
        "!pip install clodsa"
      ],
      "execution_count": 0,
      "outputs": []
    },
    {
      "cell_type": "markdown",
      "metadata": {
        "colab_type": "text",
        "id": "I1q3x_OFht66"
      },
      "source": [
        "## Loading the necessary libraries\n",
        "\n",
        "The first step in the pipeline consists in loading the necessary libraries to apply the data augmentation techniques in CLODSA."
      ]
    },
    {
      "cell_type": "code",
      "metadata": {
        "colab_type": "code",
        "id": "JqWBswFyht68",
        "colab": {}
      },
      "source": [
        "from matplotlib import pyplot as plt\n",
        "from clodsa.augmentors.augmentorFactory import createAugmentor\n",
        "from clodsa.transformers.transformerFactory import transformerGenerator\n",
        "from clodsa.techniques.techniqueFactory import createTechnique\n",
        "import cv2\n",
        "%matplotlib inline"
      ],
      "execution_count": 0,
      "outputs": []
    },
    {
      "cell_type": "markdown",
      "metadata": {
        "colab_type": "text",
        "id": "CBP59dqqht7E"
      },
      "source": [
        "## Creating the augmentor object\n",
        "\n",
        "As explained in the documentation of CLODSA, we need to specify some parameters for the augmentation process, and use them to create an augmentor object.  \n",
        "\n",
        "_The kind of problem_. In this case, we are working in an instance segmentation problem."
      ]
    },
    {
      "cell_type": "code",
      "metadata": {
        "colab_type": "code",
        "id": "zQ5q8WVnht7G",
        "colab": {}
      },
      "source": [
        "PROBLEM = \"instance_segmentation\""
      ],
      "execution_count": 0,
      "outputs": []
    },
    {
      "cell_type": "markdown",
      "metadata": {
        "colab_type": "text",
        "id": "D46gdf-4ht7K"
      },
      "source": [
        "_The annotation mode_. The annotation is provided using the coco format in a file called annotations.json. "
      ]
    },
    {
      "cell_type": "code",
      "metadata": {
        "colab_type": "code",
        "id": "rrlRg-FVht7M",
        "colab": {}
      },
      "source": [
        "ANNOTATION_MODE = \"coco\""
      ],
      "execution_count": 0,
      "outputs": []
    },
    {
      "cell_type": "markdown",
      "metadata": {
        "colab_type": "text",
        "id": "cn-uF33Oht7S"
      },
      "source": [
        "_The input path_. The input path containing the images. "
      ]
    },
    {
      "cell_type": "code",
      "metadata": {
        "colab_type": "code",
        "id": "78jPXCj2ht7U",
        "colab": {}
      },
      "source": [
        "INPUT_PATH = \"shapes\""
      ],
      "execution_count": 0,
      "outputs": []
    },
    {
      "cell_type": "markdown",
      "metadata": {
        "colab_type": "text",
        "id": "j9kGGhs4ht7a"
      },
      "source": [
        "_The generation mode_. In this case, sequential, that is, all augmentation techniques are applied to each image of the input dataset in the order in which the techniques were added. "
      ]
    },
    {
      "cell_type": "code",
      "metadata": {
        "colab_type": "code",
        "id": "KCweCzLeht7c",
        "colab": {}
      },
      "source": [
        "GENERATION_MODE = \"sequential\""
      ],
      "execution_count": 0,
      "outputs": []
    },
    {
      "cell_type": "markdown",
      "metadata": {
        "colab_type": "text",
        "id": "o6WljljVht7g"
      },
      "source": [
        "_The output mode_. The generated images will be stored in a new folder called output.  "
      ]
    },
    {
      "cell_type": "code",
      "metadata": {
        "colab_type": "code",
        "id": "A4uKKcJUht7i",
        "colab": {}
      },
      "source": [
        "OUTPUT_MODE = \"coco\"\n",
        "OUTPUT_PATH= \"output/\""
      ],
      "execution_count": 0,
      "outputs": []
    },
    {
      "cell_type": "code",
      "metadata": {
        "id": "h_eCHyI6CGPX",
        "colab_type": "code",
        "colab": {}
      },
      "source": [
        "!mkdir output"
      ],
      "execution_count": 0,
      "outputs": []
    },
    {
      "cell_type": "markdown",
      "metadata": {
        "colab_type": "text",
        "id": "9R79LEvVht7o"
      },
      "source": [
        "Using the above information, we can create our augmentor object. "
      ]
    },
    {
      "cell_type": "code",
      "metadata": {
        "colab_type": "code",
        "id": "CQ9wyiQuht7q",
        "colab": {}
      },
      "source": [
        "augmentor = createAugmentor(PROBLEM,ANNOTATION_MODE,OUTPUT_MODE,GENERATION_MODE,INPUT_PATH,{\"outputPath\":OUTPUT_PATH})"
      ],
      "execution_count": 0,
      "outputs": []
    },
    {
      "cell_type": "markdown",
      "metadata": {
        "colab_type": "text",
        "id": "iXOfuq90ht7w"
      },
      "source": [
        "## Adding the augmentation techniques\n",
        "\n",
        "Now, we define the techniques that will be applied in our augmentation process and add them to our augmentor object. To illustrate the transformations, we will use the following image of the dataset. \n",
        "\n"
      ]
    },
    {
      "cell_type": "markdown",
      "metadata": {
        "id": "9MsVfe3CBh1I",
        "colab_type": "text"
      },
      "source": [
        "First of all, we must define a transformer generator."
      ]
    },
    {
      "cell_type": "code",
      "metadata": {
        "id": "-OSl47BDBh1K",
        "colab_type": "code",
        "colab": {}
      },
      "source": [
        "transformer = transformerGenerator(PROBLEM)"
      ],
      "execution_count": 0,
      "outputs": []
    },
    {
      "cell_type": "markdown",
      "metadata": {
        "colab_type": "text",
        "id": "n4PfSKW-ht74"
      },
      "source": [
        "_Rotations:_"
      ]
    },
    {
      "cell_type": "code",
      "metadata": {
        "colab_type": "code",
        "id": "ajKE-mkDht74",
        "colab": {}
      },
      "source": [
        "for angle in [90,180]:\n",
        "    rotate = createTechnique(\"rotate\", {\"angle\" : angle})\n",
        "    augmentor.addTransformer(transformer(rotate))"
      ],
      "execution_count": 0,
      "outputs": []
    },
    {
      "cell_type": "markdown",
      "metadata": {
        "id": "It-_OkKfBh1e",
        "colab_type": "text"
      },
      "source": [
        "_Flips:_"
      ]
    },
    {
      "cell_type": "code",
      "metadata": {
        "id": "gEYJCW0aBh1g",
        "colab_type": "code",
        "colab": {}
      },
      "source": [
        "flip = createTechnique(\"flip\",{\"flip\":1})\n",
        "augmentor.addTransformer(transformer(flip))"
      ],
      "execution_count": 0,
      "outputs": []
    },
    {
      "cell_type": "markdown",
      "metadata": {
        "colab_type": "text",
        "id": "WwE-qSYLht9I"
      },
      "source": [
        "## Applying the augmentation process\n",
        "\n",
        "Finally, we apply the augmentation process (this might take some time depending on the number of images of the original dataset and the number of transformations that will be applied). "
      ]
    },
    {
      "cell_type": "code",
      "metadata": {
        "colab_type": "code",
        "id": "lbW5YVE9ht9I",
        "colab": {}
      },
      "source": [
        "augmentor.applyAugmentation()"
      ],
      "execution_count": 0,
      "outputs": []
    },
    {
      "cell_type": "markdown",
      "metadata": {
        "id": "brG8bP-RBh1q",
        "colab_type": "text"
      },
      "source": [
        "We can now check the elements of the output folder. "
      ]
    },
    {
      "cell_type": "code",
      "metadata": {
        "id": "1zdxLh12Bh1s",
        "colab_type": "code",
        "colab": {}
      },
      "source": [
        "!ls output/"
      ],
      "execution_count": 0,
      "outputs": []
    },
    {
      "cell_type": "markdown",
      "metadata": {
        "id": "I7KjBPOIBh1x",
        "colab_type": "text"
      },
      "source": [
        "Finally, we can visualize the results using some of the tools provided by [the COCO API](https://github.com/cocodataset/cocoapi)."
      ]
    },
    {
      "cell_type": "code",
      "metadata": {
        "id": "nF9AM8GNBh1y",
        "colab_type": "code",
        "colab": {}
      },
      "source": [
        "!pip install pycocotools"
      ],
      "execution_count": 0,
      "outputs": []
    },
    {
      "cell_type": "code",
      "metadata": {
        "id": "LxXtLp5OBh13",
        "colab_type": "code",
        "colab": {}
      },
      "source": [
        "%matplotlib inline\n",
        "from pycocotools.coco import COCO\n",
        "import numpy as np\n",
        "import skimage.io as io\n",
        "import matplotlib.pyplot as plt\n",
        "import pylab"
      ],
      "execution_count": 0,
      "outputs": []
    },
    {
      "cell_type": "code",
      "metadata": {
        "id": "NzbYOt2VBh17",
        "colab_type": "code",
        "colab": {}
      },
      "source": [
        "image_directory = 'output/'\n",
        "annotation_file = 'output/annotation.json'"
      ],
      "execution_count": 0,
      "outputs": []
    },
    {
      "cell_type": "code",
      "metadata": {
        "id": "1SYTVW09Bh19",
        "colab_type": "code",
        "colab": {}
      },
      "source": [
        "example_coco = COCO(annotation_file)"
      ],
      "execution_count": 0,
      "outputs": []
    },
    {
      "cell_type": "code",
      "metadata": {
        "id": "G5vJPcE3Bh2B",
        "colab_type": "code",
        "colab": {}
      },
      "source": [
        "categories = example_coco.loadCats(example_coco.getCatIds())\n",
        "category_names = [category['name'] for category in categories]\n",
        "print('Custom COCO categories: \\n{}\\n'.format(' '.join(category_names)))\n",
        "\n",
        "category_names = set([category['supercategory'] for category in categories])\n",
        "print('Custom COCO supercategories: \\n{}'.format(' '.join(category_names)))"
      ],
      "execution_count": 0,
      "outputs": []
    },
    {
      "cell_type": "markdown",
      "metadata": {
        "id": "y1xlFrwfBh2G",
        "colab_type": "text"
      },
      "source": [
        "Each execution of the following cells show a different image of the output dataset."
      ]
    },
    {
      "cell_type": "code",
      "metadata": {
        "id": "07sYfCoCBh2J",
        "colab_type": "code",
        "colab": {}
      },
      "source": [
        "category_ids = example_coco.getCatIds(catNms=['circle'])\n",
        "image_ids = example_coco.getImgIds(catIds=category_ids)\n",
        "image_data = example_coco.loadImgs(image_ids[np.random.randint(0, len(image_ids))])[0]"
      ],
      "execution_count": 0,
      "outputs": []
    },
    {
      "cell_type": "code",
      "metadata": {
        "id": "kv82h2gWBh2P",
        "colab_type": "code",
        "colab": {}
      },
      "source": [
        "image_data"
      ],
      "execution_count": 0,
      "outputs": []
    },
    {
      "cell_type": "code",
      "metadata": {
        "id": "XNt8OXIuBh2S",
        "colab_type": "code",
        "colab": {}
      },
      "source": [
        "image = io.imread(image_directory + image_data['file_name'])\n",
        "plt.imshow(image); plt.axis('off')\n",
        "pylab.rcParams['figure.figsize'] = (8.0, 10.0)\n",
        "annotation_ids = example_coco.getAnnIds(imgIds=image_data['id'], catIds=category_ids, iscrowd=None)\n",
        "annotations = example_coco.loadAnns(annotation_ids)\n",
        "example_coco.showAnns(annotations)"
      ],
      "execution_count": 0,
      "outputs": []
    },
    {
      "cell_type": "markdown",
      "metadata": {
        "id": "LXDx9QqGBh2W",
        "colab_type": "text"
      },
      "source": [
        "If you are executing this notebook in Colaboratory, you need to download the generated files. To that aim, you can create a zip folder and download it using the following commands. "
      ]
    },
    {
      "cell_type": "code",
      "metadata": {
        "id": "gFWtkhy3Bh2X",
        "colab_type": "code",
        "colab": {}
      },
      "source": [
        "!zip -r shapes.zip output\n",
        "from google.colab import files\n",
        "files.download('shapes.zip')"
      ],
      "execution_count": 0,
      "outputs": []
    }
  ]
}